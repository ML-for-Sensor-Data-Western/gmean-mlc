{
 "cells": [
  {
   "cell_type": "code",
   "execution_count": null,
   "metadata": {},
   "outputs": [],
   "source": [
    "import os\n",
    "import random\n",
    "import pandas as pd\n",
    "from sklearn.model_selection import train_test_split"
   ]
  },
  {
   "cell_type": "markdown",
   "metadata": {},
   "source": [
    "# Old Split"
   ]
  },
  {
   "cell_type": "code",
   "execution_count": null,
   "metadata": {},
   "outputs": [],
   "source": [
    "# Paths\n",
    "all_images_dir = \"/mnt/datassd0/chest-xray/data/images/all_images\"\n",
    "output_dir = \"/mnt/datassd0/chest-xray/data/train_val_test\"\n",
    "os.makedirs(output_dir, exist_ok=True)\n",
    "\n",
    "# Output folders to optionally save images in splits\n",
    "\n",
    "# train_dir = os.path.join(output_dir, \"train\")\n",
    "# val_dir = os.path.join(output_dir, \"val\")\n",
    "# test_dir = os.path.join(output_dir, \"test\")\n",
    "\n",
    "# for d in [train_dir, val_dir, test_dir]:\n",
    "#     os.makedirs(d, exist_ok=True)\n",
    "\n",
    "# Read file lists\n",
    "with open(\"/mnt/datassd0/chest-xray/data/test_list.txt\", \"r\") as f:\n",
    "    test_files = [line.strip() for line in f.readlines()]\n",
    "\n",
    "with open(\"/mnt/datassd0/chest-xray/data/train_val_list.txt\", \"r\") as f:\n",
    "    train_val_files = [line.strip() for line in f.readlines()]\n",
    "\n",
    "# Determine split ratio\n",
    "val_ratio_from_remaining = 10 / (70 + 10)\n",
    "val_size = int(len(train_val_files) * val_ratio_from_remaining)\n",
    "\n",
    "# Shuffle + split\n",
    "random.seed(42)\n",
    "random.shuffle(train_val_files)\n",
    "val_files = train_val_files[:val_size]\n",
    "train_files = train_val_files[val_size:]\n",
    "\n",
    "# Function to copy and save list\n",
    "def copy_and_save(file_list, list_path, dest_img_dir=None):\n",
    "    with open(list_path, \"w\") as f:\n",
    "        for fname in file_list:\n",
    "            f.write(fname + \"\\n\")\n",
    "            # src_path = os.path.join(all_images_dir, fname)\n",
    "            # dst_path = os.path.join(dest_img_dir, fname)\n",
    "            # if os.path.exists(src_path):\n",
    "            #     shutil.copy2(src_path, dst_path)  \n",
    "            # else:\n",
    "            #     print(f\"Warning: {fname} not found in all_images.\")\n",
    "\n",
    "# Copy and save\n",
    "copy_and_save(train_files, os.path.join(output_dir, \"train.txt\"))\n",
    "copy_and_save(val_files, os.path.join(output_dir, \"val.txt\"))\n",
    "copy_and_save(test_files, os.path.join(output_dir, \"test.txt\"))\n",
    "\n",
    "# Summary\n",
    "print(f\"Train: {len(train_files)} images\")\n",
    "print(f\"Val:   {len(val_files)} images\")\n",
    "print(f\"Test:  {len(test_files)} images\")"
   ]
  },
  {
   "cell_type": "markdown",
   "metadata": {},
   "source": [
    "# New Patient Split"
   ]
  },
  {
   "cell_type": "code",
   "execution_count": null,
   "metadata": {},
   "outputs": [],
   "source": [
    "# Load full CSV file\n",
    "df = pd.read_csv(\"/mnt/datassd0/chest-xray/data/Data_Entry_2017_v2020.csv\")  # must contain columns: Image Index, patient_id\n",
    "\n",
    "# Get unique patient IDs\n",
    "unique_patients = df['Patient ID'].unique()\n",
    "print(f\"Total unique patients: {len(unique_patients)}\")\n",
    "\n",
    "# Split into 70% train, 30% temp (which will be split to val and test)\n",
    "train_patients, temp_patients = train_test_split(unique_patients, test_size=0.30, random_state=42)\n",
    "\n",
    "# Split temp (30%) into val and test equally (15% each)\n",
    "val_patients, test_patients = train_test_split(temp_patients, test_size=0.5, random_state=42)\n",
    "\n",
    "# Filter images based on patient groups\n",
    "train_df = df[df['Patient ID'].isin(train_patients)]\n",
    "val_df = df[df['Patient ID'].isin(val_patients)]\n",
    "test_df = df[df['Patient ID'].isin(test_patients)]\n",
    "\n",
    "# Write image filenames to separate txt files\n",
    "train_df['Image Index'].to_csv(\"/mnt/datassd0/chest-xray/data/train_val_test_new/train.txt\", index=False, header=False)\n",
    "val_df['Image Index'].to_csv(\"/mnt/datassd0/chest-xray/data/train_val_test_new/val.txt\", index=False, header=False)\n",
    "test_df['Image Index'].to_csv(\"/mnt/datassd0/chest-xray/data/train_val_test_new/test.txt\", index=False, header=False)\n",
    "\n",
    "print(f\"Train patients: {len(train_patients)}, Val: {len(val_patients)}, Test: {len(test_patients)}\")\n",
    "print(f\"Train images: {len(train_df)}, Val: {len(val_df)}, Test: {len(test_df)}\")\n"
   ]
  }
 ],
 "metadata": {
  "kernelspec": {
   "display_name": "base",
   "language": "python",
   "name": "python3"
  },
  "language_info": {
   "codemirror_mode": {
    "name": "ipython",
    "version": 3
   },
   "file_extension": ".py",
   "mimetype": "text/x-python",
   "name": "python",
   "nbconvert_exporter": "python",
   "pygments_lexer": "ipython3",
   "version": "3.12.4"
  }
 },
 "nbformat": 4,
 "nbformat_minor": 2
}
